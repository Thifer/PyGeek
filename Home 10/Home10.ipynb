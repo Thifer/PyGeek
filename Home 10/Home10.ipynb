{
  "nbformat": 4,
  "nbformat_minor": 0,
  "metadata": {
    "colab": {
      "provenance": [],
      "authorship_tag": "ABX9TyMMdqwYWjmBz3B5l5FlfU49",
      "include_colab_link": true
    },
    "kernelspec": {
      "name": "python3",
      "display_name": "Python 3"
    },
    "language_info": {
      "name": "python"
    }
  },
  "cells": [
    {
      "cell_type": "markdown",
      "metadata": {
        "id": "view-in-github",
        "colab_type": "text"
      },
      "source": [
        "<a href=\"https://colab.research.google.com/github/Thifer/PyGeek/blob/main/Home%2010/Home10.ipynb\" target=\"_parent\"><img src=\"https://colab.research.google.com/assets/colab-badge.svg\" alt=\"Open In Colab\"/></a>"
      ]
    },
    {
      "cell_type": "code",
      "execution_count": 10,
      "metadata": {
        "colab": {
          "base_uri": "https://localhost:8080/"
        },
        "id": "EbJyyAmWf8nX",
        "outputId": "752355c2-3903-4b89-d710-0c1e5be47b7b"
      },
      "outputs": [
        {
          "output_type": "stream",
          "name": "stdout",
          "text": [
            "   whoAmI\n",
            "0   robot\n",
            "1   human\n",
            "2   robot\n",
            "3   human\n",
            "4   human\n",
            "5   robot\n",
            "6   human\n",
            "7   human\n",
            "8   robot\n",
            "9   robot\n",
            "10  robot\n",
            "11  human\n",
            "12  robot\n",
            "13  human\n",
            "14  robot\n",
            "15  human\n",
            "16  robot\n",
            "17  human\n",
            "18  human\n",
            "19  robot\n"
          ]
        }
      ],
      "source": [
        "import pandas as pd\n",
        "import random\n",
        "lst = ['robot'] * 10\n",
        "lst += ['human'] * 10\n",
        "random.shuffle(lst)\n",
        "data = pd.DataFrame({'whoAmI': lst})\n",
        "print(data)  # было так "
      ]
    },
    {
      "cell_type": "code",
      "source": [
        "data.loc[data['whoAmI'] == 'human', 'human'] = 1\n",
        "data.loc[data['whoAmI'] == 'robot', 'robot'] = 1\n",
        "data = data.fillna(0)\n",
        "print(data)"
      ],
      "metadata": {
        "colab": {
          "base_uri": "https://localhost:8080/"
        },
        "id": "CUvDzhmZgQze",
        "outputId": "16cc8195-32ba-4f6b-8385-bf850997f56c"
      },
      "execution_count": 19,
      "outputs": [
        {
          "output_type": "stream",
          "name": "stdout",
          "text": [
            "   whoAmI  human  robot\n",
            "0   robot      0      1\n",
            "1   human      1      0\n",
            "2   robot      0      1\n",
            "3   human      1      0\n",
            "4   human      1      0\n",
            "5   robot      0      1\n",
            "6   human      1      0\n",
            "7   human      1      0\n",
            "8   robot      0      1\n",
            "9   robot      0      1\n",
            "10  robot      0      1\n",
            "11  human      1      0\n",
            "12  robot      0      1\n",
            "13  human      1      0\n",
            "14  robot      0      1\n",
            "15  human      1      0\n",
            "16  robot      0      1\n",
            "17  human      1      0\n",
            "18  human      1      0\n",
            "19  robot      0      1\n"
          ]
        }
      ]
    },
    {
      "cell_type": "code",
      "source": [],
      "metadata": {
        "id": "q-qG26xVllo_"
      },
      "execution_count": null,
      "outputs": []
    }
  ]
}